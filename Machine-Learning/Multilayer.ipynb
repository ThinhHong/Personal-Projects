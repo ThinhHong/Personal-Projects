{
 "cells": [
  {
   "cell_type": "code",
   "execution_count": null,
   "id": "a3d80567",
   "metadata": {},
   "outputs": [],
   "source": [
    "import pandas as pd\n",
    "import numpy as np\n",
    "import matplotlib.pyplot as plt\n",
    "from sklearn import preprocessing\n",
    "from sklearn import metrics\n",
    "from sklearn.preprocessing import LabelEncoder\n",
    "from sklearn.preprocessing import OneHotEncoder\n",
    "from sklearn.model_selection import train_test_split\n",
    "from sklearn.metrics import precision_score,recall_score,f1_score\n",
    "from sklearn.metrics import confusion_matrix\n",
    "from sklearn.multiclass import OneVsRestClassifier\n",
    "from sklearn.neural_network import MLPClassifier"
   ]
  },
  {
   "cell_type": "code",
   "execution_count": 10,
   "id": "eb3c13b7",
   "metadata": {},
   "outputs": [],
   "source": [
    "import math"
   ]
  },
  {
   "cell_type": "code",
   "execution_count": 29,
   "id": "5bf957e1",
   "metadata": {},
   "outputs": [
    {
     "name": "stdout",
     "output_type": "stream",
     "text": [
      "1\n",
      "2\n",
      "1\n",
      "2\n",
      "1\n",
      "2\n",
      "['hellosdada fgasgsdhfs ', 'asdagagasg dhfdsfhfdr ', 'dsafhsdlhs dhgbid ']\n"
     ]
    }
   ],
   "source": [
    "x = (\"hellosdadafgasgsdhfsdhsdfggggggggg\",\"asdagagasgdhfdsfhfdrh\",\"dsafhsdlhsdhgbid\")\n",
    "def insert_space(string, integer):\n",
    "    return string[0:integer] + ' '\n",
    "\n",
    "     \n",
    "p = []\n",
    "for q in range(len(x)):\n",
    "    i = 0\n",
    "    t = \"\"\n",
    "    while i < (len(x[q][i])/10)+1: \n",
    "        t = t + insert_space(x[q][i*10:],10) \n",
    "        i = i + 1\n",
    "        print(i)\n",
    "    p.append(t)\n",
    "print(p)"
   ]
  },
  {
   "cell_type": "code",
   "execution_count": 46,
   "id": "3635f1e0",
   "metadata": {},
   "outputs": [
    {
     "name": "stdout",
     "output_type": "stream",
     "text": [
      "hellosdada fgasgsdhfs dhsdfhfsd  \n",
      "['hellosdada fgasgsdhfs dhsdfggggg gshdjdffff ffffffffff ffffffjdjf 61 gmfyukmfyk mfymfyumfy umfymggg  ', 'asdagagasg dhfdsfhfdr h  ', 'dsafhsdlhs dhgbid  ']\n"
     ]
    }
   ],
   "source": [
    "x = 'hellosdadafgasgsdhfsdhsdfhfsd'\n",
    "y = [\"hellosdadafgasgsdhfsdhsdfggggggshdjdffffffffffffffffffffjdjfgmfyukmfykmfymfyumfyumfymggg\",\"asdagagasgdhfdsfhfdrh\",\"dsafhsdlhsdhgbid\"]\n",
    "def insert_space(string, integer,total):\n",
    "    if total == 60:\n",
    "        return string[0:integer] + ' ' + '61' +' '\n",
    "    else:\n",
    "        return string[0:integer] + ' '\n",
    "\n",
    "def whole_string(string,integer):\n",
    "    t = \"\"\n",
    "    i = 0\n",
    "    q = 0\n",
    "    while i < (len(string)/integer)+1: \n",
    "        q = q + integer\n",
    "        t = t + insert_space(string[i*integer:],integer,q) \n",
    "        i = i + 1\n",
    "    return t\n",
    "print(whole_string(x,10))\n",
    "\n",
    "p =[]\n",
    "for l in range(len(y)):\n",
    "    p.append(whole_string(y[l],10))\n",
    "    \n",
    "print(p)"
   ]
  },
  {
   "cell_type": "code",
   "execution_count": 42,
   "id": "3fa6f939",
   "metadata": {},
   "outputs": [
    {
     "name": "stdout",
     "output_type": "stream",
     "text": [
      "88\n"
     ]
    }
   ],
   "source": [
    "print(len(y[0]))"
   ]
  },
  {
   "cell_type": "code",
   "execution_count": 7,
   "id": "70f8e0f0",
   "metadata": {},
   "outputs": [
    {
     "name": "stdout",
     "output_type": "stream",
     "text": [
      "hellosdada fgasgsdhfsdhsdfhfsd\n"
     ]
    }
   ],
   "source": [
    "print(insert_space(x[0*10:],10))"
   ]
  },
  {
   "cell_type": "code",
   "execution_count": 8,
   "id": "b64d9c3c",
   "metadata": {},
   "outputs": [
    {
     "name": "stdout",
     "output_type": "stream",
     "text": [
      "fgasgsdhfs dhsdfhfsd\n"
     ]
    }
   ],
   "source": [
    "print(insert_space(x[1*10:],10))"
   ]
  },
  {
   "cell_type": "code",
   "execution_count": 11,
   "id": "1fad1b95",
   "metadata": {},
   "outputs": [
    {
     "data": {
      "text/plain": [
       "3"
      ]
     },
     "execution_count": 11,
     "metadata": {},
     "output_type": "execute_result"
    }
   ],
   "source": [
    "math.ceil(2.9)"
   ]
  },
  {
   "cell_type": "code",
   "execution_count": 17,
   "id": "1ebffa6b",
   "metadata": {},
   "outputs": [
    {
     "name": "stdout",
     "output_type": "stream",
     "text": [
      "['hello']\n"
     ]
    }
   ],
   "source": [
    "p=[]\n",
    "p.append(\"hello\")\n",
    "print(p)"
   ]
  },
  {
   "cell_type": "code",
   "execution_count": null,
   "id": "d6f9e475",
   "metadata": {},
   "outputs": [],
   "source": []
  }
 ],
 "metadata": {
  "kernelspec": {
   "display_name": "Python 3 (ipykernel)",
   "language": "python",
   "name": "python3"
  },
  "language_info": {
   "codemirror_mode": {
    "name": "ipython",
    "version": 3
   },
   "file_extension": ".py",
   "mimetype": "text/x-python",
   "name": "python",
   "nbconvert_exporter": "python",
   "pygments_lexer": "ipython3",
   "version": "3.10.2"
  }
 },
 "nbformat": 4,
 "nbformat_minor": 5
}
