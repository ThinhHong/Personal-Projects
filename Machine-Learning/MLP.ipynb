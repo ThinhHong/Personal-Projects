{
 "cells": [
  {
   "cell_type": "code",
   "execution_count": 13,
   "id": "a3d80567",
   "metadata": {},
   "outputs": [],
   "source": [
    "import pandas as pd\n",
    "import numpy as np\n",
    "import matplotlib.pyplot as plt\n",
    "from sklearn import preprocessing\n",
    "from sklearn import metrics\n",
    "from sklearn.preprocessing import LabelEncoder\n",
    "from sklearn.preprocessing import OneHotEncoder\n",
    "from sklearn.model_selection import train_test_split\n",
    "from sklearn.metrics import classification_report\n",
    "from sklearn.metrics import confusion_matrix\n",
    "from sklearn.metrics import precision_recall_curve\n",
    "from sklearn.multiclass import OneVsRestClassifier\n",
    "from sklearn.neural_network import MLPClassifier"
   ]
  },
  {
   "cell_type": "code",
   "execution_count": 14,
   "id": "53e4cf7e",
   "metadata": {},
   "outputs": [],
   "source": [
    "df = pd.read_csv('exams.csv')"
   ]
  },
  {
   "cell_type": "markdown",
   "id": "9dbba328",
   "metadata": {},
   "source": [
    "## Encoding"
   ]
  },
  {
   "cell_type": "code",
   "execution_count": 15,
   "id": "4d132c71",
   "metadata": {},
   "outputs": [],
   "source": [
    "labels = ['fail','pass']\n",
    "bins = [0,55,101]\n",
    "df['average score'] = (df['math score'] + df['writing score']+df['reading score'])/3\n",
    "df['math score'] = pd.cut(df['math score'],bins = bins, labels = labels, include_lowest = True)\n",
    "df['reading score'] = pd.cut(df['reading score'],bins = bins, labels = labels, include_lowest = True)\n",
    "df['writing score'] = pd.cut(df['writing score'],bins = bins, labels = labels, include_lowest = True)\n",
    "df['average score'] = pd.cut(df['average score'],bins = bins, labels = labels, include_lowest = True)\n"
   ]
  },
  {
   "cell_type": "markdown",
   "id": "d0cc4cff",
   "metadata": {},
   "source": [
    "Multilayer preceptron requires the input variables to be continous. Therefore the factors are transformed into one hot encoders to represent the discrete data. It also requires the dependent variables to be discrete. As such, the scores are put into bins similar to the Naive Bayes model"
   ]
  },
  {
   "cell_type": "code",
   "execution_count": 16,
   "id": "5724e4cd",
   "metadata": {},
   "outputs": [],
   "source": [
    "onehot_encoder = OneHotEncoder()\n",
    "data = onehot_encoder.fit_transform(df[[\"gender\",\"race/ethnicity\",'parental level of education','lunch','test preparation course']]).toarray()\n",
    "lables = onehot_encoder.categories_\n",
    "lables = np.array(lables,dtype=object).ravel()\n",
    "lables = np.hstack(lables)\n",
    "le = preprocessing.LabelEncoder()\n",
    "for col in df.columns:\n",
    "        df[col] = le.fit_transform(df[col])\n",
    "        \n",
    "factors = pd.DataFrame(data, columns = lables)\n",
    "target = df.iloc[:,5:9]"
   ]
  },
  {
   "cell_type": "code",
   "execution_count": null,
   "id": "c0f07dff",
   "metadata": {},
   "outputs": [],
   "source": []
  },
  {
   "cell_type": "markdown",
   "id": "0e8dbe00",
   "metadata": {},
   "source": [
    "## Testing and Training"
   ]
  },
  {
   "cell_type": "code",
   "execution_count": 17,
   "id": "0ac31c3f",
   "metadata": {},
   "outputs": [],
   "source": [
    "X_train, X_test, y_train, y_test = train_test_split(\n",
    "   factors, target, test_size = 0.3, random_state = 1\n",
    ")\n"
   ]
  },
  {
   "cell_type": "code",
   "execution_count": 18,
   "id": "2e692f00",
   "metadata": {},
   "outputs": [],
   "source": [
    "mlp = MLPClassifier(random_state = 10, max_iter = 5000, activation = 'relu',hidden_layer_sizes = (3,2),alpha = 0.0001)\n",
    "mlp1 = mlp.fit(X_train, y_train['average score'])\n",
    "y_pred_average = mlp.predict(X_test)"
   ]
  },
  {
   "cell_type": "code",
   "execution_count": 19,
   "id": "904ac12f",
   "metadata": {},
   "outputs": [
    {
     "name": "stdout",
     "output_type": "stream",
     "text": [
      "Training set score: 0.830\n",
      "Test set score: 0.790\n"
     ]
    }
   ],
   "source": [
    "print(\"Training set score: {:.3f}\".format(mlp1.score(X_train,y_train['average score'])))\n",
    "print(\"Test set score: {:.3f}\".format(mlp1.score(X_test,y_test['average score'])))"
   ]
  },
  {
   "cell_type": "markdown",
   "id": "e0090cfe",
   "metadata": {},
   "source": [
    "## Evaluation"
   ]
  },
  {
   "cell_type": "code",
   "execution_count": 20,
   "id": "5b051ec3",
   "metadata": {
    "scrolled": true
   },
   "outputs": [
    {
     "data": {
      "text/plain": [
       "array([[  8,  56],\n",
       "       [  7, 229]], dtype=int64)"
      ]
     },
     "execution_count": 20,
     "metadata": {},
     "output_type": "execute_result"
    }
   ],
   "source": [
    "confusion_matrix(y_test['average score'], y_pred_average,labels=None, sample_weight=None, normalize=None)"
   ]
  },
  {
   "cell_type": "markdown",
   "id": "cc7167ce",
   "metadata": {},
   "source": [
    "Logistic regression classifier has tp value of 8, fp of 7, fn of 56 and tn of 229"
   ]
  },
  {
   "cell_type": "code",
   "execution_count": 21,
   "id": "1690a2bb",
   "metadata": {
    "scrolled": true
   },
   "outputs": [
    {
     "name": "stdout",
     "output_type": "stream",
     "text": [
      "              precision    recall  f1-score   support\n",
      "\n",
      "           0       0.53      0.12      0.20        64\n",
      "           1       0.80      0.97      0.88       236\n",
      "\n",
      "    accuracy                           0.79       300\n",
      "   macro avg       0.67      0.55      0.54       300\n",
      "weighted avg       0.75      0.79      0.73       300\n",
      "\n"
     ]
    }
   ],
   "source": [
    "print(classification_report(y_test['average score'], y_pred_average))"
   ]
  },
  {
   "cell_type": "markdown",
   "id": "3d6016a2",
   "metadata": {},
   "source": [
    "Precision score of 0.80, recall 0.97, and a f1 score of 0.88"
   ]
  },
  {
   "cell_type": "code",
   "execution_count": 22,
   "id": "8a75acd0",
   "metadata": {},
   "outputs": [
    {
     "data": {
      "image/png": "[encoded data removed]",
      "text/plain": [
       "<Figure size 640x480 with 1 Axes>"
      ]
     },
     "metadata": {},
     "output_type": "display_data"
    }
   ],
   "source": [
    "precision, recall, thresholds = precision_recall_curve(y_test['average score'], y_pred_average)\n",
    "fig, ax = plt.subplots()\n",
    "ax.plot(recall, precision, color= 'purple')\n",
    "ax.set_title('Precision-Recall Curve')\n",
    "ax.set_ylabel('Precision')\n",
    "ax.set_xlabel('Recall')\n",
    "plt.show()"
   ]
  },
  {
   "cell_type": "code",
   "execution_count": 12,
   "id": "e18f66e0",
   "metadata": {},
   "outputs": [
    {
     "name": "stdout",
     "output_type": "stream",
     "text": [
      "507    fail\n",
      "818    pass\n",
      "452    pass\n",
      "368    pass\n",
      "242    pass\n",
      "       ... \n",
      "459    pass\n",
      "415    pass\n",
      "61     pass\n",
      "347    pass\n",
      "349    pass\n",
      "Name: average score, Length: 300, dtype: category\n",
      "Categories (2, object): ['fail' < 'pass']\n"
     ]
    }
   ],
   "source": [
    "print(y_test['average score'])\n"
   ]
  },
  {
   "cell_type": "code",
   "execution_count": null,
   "id": "a17a5df8",
   "metadata": {},
   "outputs": [],
   "source": []
  }
 ],
 "metadata": {
  "kernelspec": {
   "display_name": "Python 3 (ipykernel)",
   "language": "python",
   "name": "python3"
  },
  "language_info": {
   "codemirror_mode": {
    "name": "ipython",
    "version": 3
   },
   "file_extension": ".py",
   "mimetype": "text/x-python",
   "name": "python",
   "nbconvert_exporter": "python",
   "pygments_lexer": "ipython3",
   "version": "3.9.13"
  }
 },
 "nbformat": 4,
 "nbformat_minor": 5
}
