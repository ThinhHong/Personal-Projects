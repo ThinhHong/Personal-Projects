{
 "cells": [
  {
   "cell_type": "code",
   "execution_count": 1,
   "id": "d74e1b3c",
   "metadata": {},
   "outputs": [],
   "source": [
    "import pandas as pd\n",
    "import numpy as np\n",
    "import matplotlib.pyplot as plt\n",
    "from sklearn import preprocessing\n",
    "from sklearn import metrics\n",
    "from sklearn.preprocessing import LabelEncoder\n",
    "from sklearn.preprocessing import OneHotEncoder\n",
    "from sklearn.model_selection import train_test_split\n",
    "from sklearn.linear_model import LogisticRegression\n",
    "from sklearn.metrics import classification_report\n",
    "from sklearn.metrics import confusion_matrix\n",
    "from sklearn.metrics import precision_recall_curve"
   ]
  },
  {
   "cell_type": "code",
   "execution_count": 2,
   "id": "a51b80fb",
   "metadata": {},
   "outputs": [],
   "source": [
    "df = pd.read_csv('exams.csv')"
   ]
  },
  {
   "cell_type": "markdown",
   "id": "2dd5fb23",
   "metadata": {},
   "source": [
    "## Encoding"
   ]
  },
  {
   "cell_type": "code",
   "execution_count": 3,
   "id": "39b319d2",
   "metadata": {},
   "outputs": [],
   "source": [
    "labels = ['fail','pass']\n",
    "bins = [0,55,101]\n",
    "df['average score'] = (df['math score'] + df['writing score']+df['reading score'])/3\n",
    "df['math score'] = pd.cut(df['math score'],bins = bins, labels = labels, include_lowest = True)\n",
    "df['reading score'] = pd.cut(df['reading score'],bins = bins, labels = labels, include_lowest = True)\n",
    "df['writing score'] = pd.cut(df['writing score'],bins = bins, labels = labels, include_lowest = True)\n",
    "df['average score'] = pd.cut(df['average score'],bins = bins, labels = labels, include_lowest = True)\n"
   ]
  },
  {
   "cell_type": "markdown",
   "id": "9eca1a40",
   "metadata": {},
   "source": [
    "Logistic regression required the input variables to be continous. Therefore the factors are transformed into one hot encoders to represent the discrete data. It also requires the dependent variables to be discrete. As such, the scores are put into bins similar to the Naive Bayes model"
   ]
  },
  {
   "cell_type": "code",
   "execution_count": 11,
   "id": "e62d6573",
   "metadata": {
    "scrolled": true
   },
   "outputs": [],
   "source": [
    "onehot_encoder = OneHotEncoder()\n",
    "data = onehot_encoder.fit_transform(df[[\"gender\",\"race/ethnicity\",'parental level of education','lunch','test preparation course']]).toarray()\n",
    "lables = onehot_encoder.categories_\n",
    "lables = np.array(lables,dtype=object).ravel()\n",
    "lables = np.hstack(lables)\n",
    "\n",
    "le = preprocessing.LabelEncoder()\n",
    "for col in df.columns:\n",
    "        df[col] = le.fit_transform(df[col])\n",
    "    \n",
    "target = df.iloc[:,5:9]\n",
    "factors = pd.DataFrame(data, columns = lables)"
   ]
  },
  {
   "cell_type": "markdown",
   "id": "89b618bf",
   "metadata": {},
   "source": [
    "## Testing and Training"
   ]
  },
  {
   "cell_type": "code",
   "execution_count": 13,
   "id": "cba79442",
   "metadata": {},
   "outputs": [],
   "source": [
    "X_train, X_test, y_train, y_test = train_test_split(\n",
    "   factors, target, test_size = 0.3, random_state = 1\n",
    ")\n"
   ]
  },
  {
   "cell_type": "code",
   "execution_count": 14,
   "id": "38b927e2",
   "metadata": {
    "scrolled": true
   },
   "outputs": [
    {
     "name": "stdout",
     "output_type": "stream",
     "text": [
      "Training set score: 0.829\n",
      "Test set score: 0.810\n"
     ]
    }
   ],
   "source": [
    "log_Model = LogisticRegression(random_state = 0, max_iter = 5000)\n",
    "log_model1 = log_Model.fit(X_train, y_train['average score'])\n",
    "y_pred_average = log_Model.predict(X_test)\n",
    "print(\"Training set score: {:.3f}\".format(log_model1.score(X_train,y_train['average score'])))\n",
    "print(\"Test set score: {:.3f}\".format(log_model1.score(X_test,y_test['average score'])))"
   ]
  },
  {
   "cell_type": "markdown",
   "id": "9eed084c",
   "metadata": {},
   "source": [
    "## Evaluation"
   ]
  },
  {
   "cell_type": "code",
   "execution_count": 15,
   "id": "730f9ad2",
   "metadata": {
    "scrolled": true
   },
   "outputs": [
    {
     "data": {
      "text/plain": [
       "array([[ 16,  48],\n",
       "       [  9, 227]], dtype=int64)"
      ]
     },
     "execution_count": 15,
     "metadata": {},
     "output_type": "execute_result"
    }
   ],
   "source": [
    "confusion_matrix(y_test['average score'], y_pred_average,labels=None, sample_weight=None, normalize=None)"
   ]
  },
  {
   "cell_type": "markdown",
   "id": "ebc8fe65",
   "metadata": {},
   "source": [
    "Logistic regression classifier has tp value of 16, fp of 9, fn of 48 and tn of 222"
   ]
  },
  {
   "cell_type": "code",
   "execution_count": 16,
   "id": "e76cb04e",
   "metadata": {
    "scrolled": true
   },
   "outputs": [
    {
     "name": "stdout",
     "output_type": "stream",
     "text": [
      "              precision    recall  f1-score   support\n",
      "\n",
      "           0       0.64      0.25      0.36        64\n",
      "           1       0.83      0.96      0.89       236\n",
      "\n",
      "    accuracy                           0.81       300\n",
      "   macro avg       0.73      0.61      0.62       300\n",
      "weighted avg       0.79      0.81      0.78       300\n",
      "\n"
     ]
    }
   ],
   "source": [
    "print(classification_report(y_test['average score'], y_pred_average))"
   ]
  },
  {
   "cell_type": "markdown",
   "id": "3ebf3ae2",
   "metadata": {},
   "source": [
    "Precision score of 0.83, recall 0.96, and a f1 score of 0.89"
   ]
  },
  {
   "cell_type": "code",
   "execution_count": 17,
   "id": "3dd551c7",
   "metadata": {},
   "outputs": [],
   "source": [
    "precision, recall, thresholds = precision_recall_curve(y_test['average score'], y_pred_average)"
   ]
  },
  {
   "cell_type": "code",
   "execution_count": 18,
   "id": "5c524712",
   "metadata": {},
   "outputs": [
    {
     "data": {
      "image/png": "[encoded data removed]",
      "text/plain": [
       "<Figure size 640x480 with 1 Axes>"
      ]
     },
     "metadata": {},
     "output_type": "display_data"
    }
   ],
   "source": [
    "fig, ax = plt.subplots()\n",
    "ax.plot(recall, precision, color= 'purple')\n",
    "ax.set_title('Precision-Recall Curve')\n",
    "ax.set_ylabel('Precision')\n",
    "ax.set_xlabel('Recall')\n",
    "plt.show()"
   ]
  },
  {
   "cell_type": "code",
   "execution_count": 9,
   "id": "cea7ac7d",
   "metadata": {},
   "outputs": [
    {
     "name": "stdout",
     "output_type": "stream",
     "text": [
      "    math score reading score writing score average score\n",
      "0         pass          pass          pass          pass\n",
      "1         fail          pass          fail          fail\n",
      "2         pass          pass          fail          pass\n",
      "3         pass          pass          pass          pass\n",
      "4         pass          pass          pass          pass\n",
      "..         ...           ...           ...           ...\n",
      "995       pass          pass          pass          pass\n",
      "996       pass          pass          pass          pass\n",
      "997       fail          fail          fail          fail\n",
      "998       pass          pass          pass          pass\n",
      "999       pass          pass          pass          pass\n",
      "\n",
      "[1000 rows x 4 columns]\n"
     ]
    }
   ],
   "source": [
    "print(target)"
   ]
  },
  {
   "cell_type": "code",
   "execution_count": 7,
   "id": "587f6137",
   "metadata": {},
   "outputs": [
    {
     "name": "stdout",
     "output_type": "stream",
     "text": [
      "507    fail\n",
      "818    pass\n",
      "452    pass\n",
      "368    pass\n",
      "242    pass\n",
      "       ... \n",
      "459    pass\n",
      "415    pass\n",
      "61     pass\n",
      "347    pass\n",
      "349    pass\n",
      "Name: average score, Length: 300, dtype: category\n",
      "Categories (2, object): ['fail' < 'pass']\n"
     ]
    }
   ],
   "source": [
    "print(y_test['average score'])"
   ]
  },
  {
   "cell_type": "code",
   "execution_count": null,
   "id": "7217688b",
   "metadata": {},
   "outputs": [],
   "source": []
  }
 ],
 "metadata": {
  "kernelspec": {
   "display_name": "Python 3 (ipykernel)",
   "language": "python",
   "name": "python3"
  },
  "language_info": {
   "codemirror_mode": {
    "name": "ipython",
    "version": 3
   },
   "file_extension": ".py",
   "mimetype": "text/x-python",
   "name": "python",
   "nbconvert_exporter": "python",
   "pygments_lexer": "ipython3",
   "version": "3.9.13"
  }
 },
 "nbformat": 4,
 "nbformat_minor": 5
}
