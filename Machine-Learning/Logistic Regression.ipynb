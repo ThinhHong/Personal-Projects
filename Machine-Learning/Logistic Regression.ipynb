{
 "cells": [
  {
   "cell_type": "code",
   "execution_count": 32,
   "id": "d74e1b3c",
   "metadata": {},
   "outputs": [],
   "source": [
    "import pandas as pd\n",
    "import numpy as np\n",
    "import matplotlib.pyplot as plt\n",
    "from sklearn import preprocessing\n",
    "from sklearn import metrics\n",
    "from sklearn.preprocessing import LabelEncoder\n",
    "from sklearn.preprocessing import OneHotEncoder\n",
    "from sklearn.model_selection import train_test_split\n",
    "from sklearn.linear_model import LogisticRegression\n",
    "from sklearn.metrics import precision_score,recall_score,f1_score\n",
    "from sklearn.metrics import confusion_matrix\n"
   ]
  },
  {
   "cell_type": "code",
   "execution_count": 26,
   "id": "a51b80fb",
   "metadata": {},
   "outputs": [],
   "source": [
    "df = pd.read_csv('exams.csv')"
   ]
  },
  {
   "cell_type": "code",
   "execution_count": 27,
   "id": "39b319d2",
   "metadata": {},
   "outputs": [],
   "source": [
    "labels = ['fail','pass']\n",
    "bins = [0,55,101]\n",
    "df['average score'] = (df['math score'] + df['writing score']+df['reading score'])/3\n",
    "df['math score'] = pd.cut(df['math score'],bins = bins, labels = labels, include_lowest = True)\n",
    "df['reading score'] = pd.cut(df['reading score'],bins = bins, labels = labels, include_lowest = True)\n",
    "df['writing score'] = pd.cut(df['writing score'],bins = bins, labels = labels, include_lowest = True)\n",
    "df['average score'] = pd.cut(df['average score'],bins = bins, labels = labels, include_lowest = True)\n"
   ]
  },
  {
   "cell_type": "code",
   "execution_count": 28,
   "id": "e62d6573",
   "metadata": {
    "scrolled": true
   },
   "outputs": [],
   "source": [
    "onehot_encoder = OneHotEncoder()\n",
    "data = onehot_encoder.fit_transform(df[[\"gender\",\"race/ethnicity\",'parental level of education','lunch','test preparation course']]).toarray()\n",
    "lables = onehot_encoder.categories_\n",
    "lables = np.array(lables,dtype=object).ravel()\n",
    "lables = np.hstack(lables)\n",
    "factors = pd.DataFrame(data, columns = lables)\n",
    "target = df.iloc[:,5:9]\n",
    "le = preprocessing.LabelEncoder()\n",
    "for col in df.columns:\n",
    "        df[col] = le.fit_transform(df[col])"
   ]
  },
  {
   "cell_type": "code",
   "execution_count": 30,
   "id": "cba79442",
   "metadata": {},
   "outputs": [
    {
     "data": {
      "text/html": [
       "<div>\n",
       "<style scoped>\n",
       "    .dataframe tbody tr th:only-of-type {\n",
       "        vertical-align: middle;\n",
       "    }\n",
       "\n",
       "    .dataframe tbody tr th {\n",
       "        vertical-align: top;\n",
       "    }\n",
       "\n",
       "    .dataframe thead th {\n",
       "        text-align: right;\n",
       "    }\n",
       "</style>\n",
       "<table border=\"1\" class=\"dataframe\">\n",
       "  <thead>\n",
       "    <tr style=\"text-align: right;\">\n",
       "      <th></th>\n",
       "      <th>female</th>\n",
       "      <th>male</th>\n",
       "      <th>group A</th>\n",
       "      <th>group B</th>\n",
       "      <th>group C</th>\n",
       "      <th>group D</th>\n",
       "      <th>group E</th>\n",
       "      <th>associate's degree</th>\n",
       "      <th>bachelor's degree</th>\n",
       "      <th>high school</th>\n",
       "      <th>master's degree</th>\n",
       "      <th>some college</th>\n",
       "      <th>some high school</th>\n",
       "      <th>free/reduced</th>\n",
       "      <th>standard</th>\n",
       "      <th>completed</th>\n",
       "      <th>none</th>\n",
       "    </tr>\n",
       "  </thead>\n",
       "  <tbody>\n",
       "    <tr>\n",
       "      <th>0</th>\n",
       "      <td>0.0</td>\n",
       "      <td>1.0</td>\n",
       "      <td>1.0</td>\n",
       "      <td>0.0</td>\n",
       "      <td>0.0</td>\n",
       "      <td>0.0</td>\n",
       "      <td>0.0</td>\n",
       "      <td>0.0</td>\n",
       "      <td>0.0</td>\n",
       "      <td>1.0</td>\n",
       "      <td>0.0</td>\n",
       "      <td>0.0</td>\n",
       "      <td>0.0</td>\n",
       "      <td>0.0</td>\n",
       "      <td>1.0</td>\n",
       "      <td>1.0</td>\n",
       "      <td>0.0</td>\n",
       "    </tr>\n",
       "    <tr>\n",
       "      <th>1</th>\n",
       "      <td>1.0</td>\n",
       "      <td>0.0</td>\n",
       "      <td>0.0</td>\n",
       "      <td>0.0</td>\n",
       "      <td>0.0</td>\n",
       "      <td>1.0</td>\n",
       "      <td>0.0</td>\n",
       "      <td>0.0</td>\n",
       "      <td>0.0</td>\n",
       "      <td>0.0</td>\n",
       "      <td>0.0</td>\n",
       "      <td>0.0</td>\n",
       "      <td>1.0</td>\n",
       "      <td>1.0</td>\n",
       "      <td>0.0</td>\n",
       "      <td>0.0</td>\n",
       "      <td>1.0</td>\n",
       "    </tr>\n",
       "    <tr>\n",
       "      <th>2</th>\n",
       "      <td>0.0</td>\n",
       "      <td>1.0</td>\n",
       "      <td>0.0</td>\n",
       "      <td>0.0</td>\n",
       "      <td>0.0</td>\n",
       "      <td>0.0</td>\n",
       "      <td>1.0</td>\n",
       "      <td>0.0</td>\n",
       "      <td>0.0</td>\n",
       "      <td>0.0</td>\n",
       "      <td>0.0</td>\n",
       "      <td>1.0</td>\n",
       "      <td>0.0</td>\n",
       "      <td>1.0</td>\n",
       "      <td>0.0</td>\n",
       "      <td>0.0</td>\n",
       "      <td>1.0</td>\n",
       "    </tr>\n",
       "    <tr>\n",
       "      <th>3</th>\n",
       "      <td>0.0</td>\n",
       "      <td>1.0</td>\n",
       "      <td>0.0</td>\n",
       "      <td>1.0</td>\n",
       "      <td>0.0</td>\n",
       "      <td>0.0</td>\n",
       "      <td>0.0</td>\n",
       "      <td>0.0</td>\n",
       "      <td>0.0</td>\n",
       "      <td>1.0</td>\n",
       "      <td>0.0</td>\n",
       "      <td>0.0</td>\n",
       "      <td>0.0</td>\n",
       "      <td>0.0</td>\n",
       "      <td>1.0</td>\n",
       "      <td>0.0</td>\n",
       "      <td>1.0</td>\n",
       "    </tr>\n",
       "    <tr>\n",
       "      <th>4</th>\n",
       "      <td>0.0</td>\n",
       "      <td>1.0</td>\n",
       "      <td>0.0</td>\n",
       "      <td>0.0</td>\n",
       "      <td>0.0</td>\n",
       "      <td>0.0</td>\n",
       "      <td>1.0</td>\n",
       "      <td>1.0</td>\n",
       "      <td>0.0</td>\n",
       "      <td>0.0</td>\n",
       "      <td>0.0</td>\n",
       "      <td>0.0</td>\n",
       "      <td>0.0</td>\n",
       "      <td>0.0</td>\n",
       "      <td>1.0</td>\n",
       "      <td>1.0</td>\n",
       "      <td>0.0</td>\n",
       "    </tr>\n",
       "  </tbody>\n",
       "</table>\n",
       "</div>"
      ],
      "text/plain": [
       "   female  male  group A  group B  group C  group D  group E  \\\n",
       "0     0.0   1.0      1.0      0.0      0.0      0.0      0.0   \n",
       "1     1.0   0.0      0.0      0.0      0.0      1.0      0.0   \n",
       "2     0.0   1.0      0.0      0.0      0.0      0.0      1.0   \n",
       "3     0.0   1.0      0.0      1.0      0.0      0.0      0.0   \n",
       "4     0.0   1.0      0.0      0.0      0.0      0.0      1.0   \n",
       "\n",
       "   associate's degree  bachelor's degree  high school  master's degree  \\\n",
       "0                 0.0                0.0          1.0              0.0   \n",
       "1                 0.0                0.0          0.0              0.0   \n",
       "2                 0.0                0.0          0.0              0.0   \n",
       "3                 0.0                0.0          1.0              0.0   \n",
       "4                 1.0                0.0          0.0              0.0   \n",
       "\n",
       "   some college  some high school  free/reduced  standard  completed  none  \n",
       "0           0.0               0.0           0.0       1.0        1.0   0.0  \n",
       "1           0.0               1.0           1.0       0.0        0.0   1.0  \n",
       "2           1.0               0.0           1.0       0.0        0.0   1.0  \n",
       "3           0.0               0.0           0.0       1.0        0.0   1.0  \n",
       "4           0.0               0.0           0.0       1.0        1.0   0.0  "
      ]
     },
     "execution_count": 30,
     "metadata": {},
     "output_type": "execute_result"
    }
   ],
   "source": [
    "X_train, X_test, y_train, y_test = train_test_split(\n",
    "   factors, target, test_size = 0.3, random_state = 1\n",
    ")\n"
   ]
  },
  {
   "cell_type": "code",
   "execution_count": 33,
   "id": "38b927e2",
   "metadata": {},
   "outputs": [
    {
     "name": "stdout",
     "output_type": "stream",
     "text": [
      "Training set score: 0.829\n",
      "Test set score: 0.810\n"
     ]
    }
   ],
   "source": [
    "log_Model = LogisticRegression(random_state = 0, max_iter = 5000)\n",
    "log_model1 = log_Model.fit(X_train, y_train['average score'])\n",
    "print(\"Training set score: {:.3f}\".format(log_model1.score(X_train,y_train['average score'])))\n",
    "print(\"Test set score: {:.3f}\".format(log_model1.score(X_test,y_test['average score'])))"
   ]
  },
  {
   "cell_type": "code",
   "execution_count": 57,
   "id": "db455d46",
   "metadata": {},
   "outputs": [
    {
     "ename": "ValueError",
     "evalue": "Unknown label type: 'continuous'",
     "output_type": "error",
     "traceback": [
      "\u001b[1;31m---------------------------------------------------------------------------\u001b[0m",
      "\u001b[1;31mValueError\u001b[0m                                Traceback (most recent call last)",
      "\u001b[1;32m~\\AppData\\Local\\Temp\\ipykernel_22816\\3106283706.py\u001b[0m in \u001b[0;36m<module>\u001b[1;34m\u001b[0m\n\u001b[0;32m      1\u001b[0m \u001b[0mlog_Model\u001b[0m \u001b[1;33m=\u001b[0m \u001b[0mLogisticRegression\u001b[0m\u001b[1;33m(\u001b[0m\u001b[0mrandom_state\u001b[0m \u001b[1;33m=\u001b[0m \u001b[1;36m0\u001b[0m\u001b[1;33m,\u001b[0m \u001b[0mmax_iter\u001b[0m \u001b[1;33m=\u001b[0m \u001b[1;36m5000\u001b[0m\u001b[1;33m)\u001b[0m\u001b[1;33m\u001b[0m\u001b[1;33m\u001b[0m\u001b[0m\n\u001b[1;32m----> 2\u001b[1;33m \u001b[0mmodel1\u001b[0m \u001b[1;33m=\u001b[0m \u001b[0mlog_Model\u001b[0m\u001b[1;33m.\u001b[0m\u001b[0mfit\u001b[0m\u001b[1;33m(\u001b[0m\u001b[0mX_train\u001b[0m\u001b[1;33m,\u001b[0m \u001b[0my_train\u001b[0m\u001b[1;33m[\u001b[0m\u001b[1;34m'average'\u001b[0m\u001b[1;33m]\u001b[0m\u001b[1;33m)\u001b[0m\u001b[1;33m\u001b[0m\u001b[1;33m\u001b[0m\u001b[0m\n\u001b[0m\u001b[0;32m      3\u001b[0m \u001b[0mpredictions\u001b[0m \u001b[1;33m=\u001b[0m \u001b[0mmodel1\u001b[0m\u001b[1;33m.\u001b[0m\u001b[0mpredict\u001b[0m\u001b[1;33m(\u001b[0m\u001b[0mX_test\u001b[0m\u001b[1;33m)\u001b[0m\u001b[1;33m\u001b[0m\u001b[1;33m\u001b[0m\u001b[0m\n\u001b[0;32m      4\u001b[0m \u001b[1;33m\u001b[0m\u001b[0m\n\u001b[0;32m      5\u001b[0m \u001b[0mprint\u001b[0m\u001b[1;33m(\u001b[0m\u001b[1;34m\"Training set score: {:.3f}\"\u001b[0m\u001b[1;33m.\u001b[0m\u001b[0mformat\u001b[0m\u001b[1;33m(\u001b[0m\u001b[0mmodel1\u001b[0m\u001b[1;33m.\u001b[0m\u001b[0mscore\u001b[0m\u001b[1;33m(\u001b[0m\u001b[0mX_train\u001b[0m\u001b[1;33m,\u001b[0m\u001b[0my_train\u001b[0m\u001b[1;33m[\u001b[0m\u001b[1;34m'average'\u001b[0m\u001b[1;33m]\u001b[0m\u001b[1;33m)\u001b[0m\u001b[1;33m)\u001b[0m\u001b[1;33m)\u001b[0m\u001b[1;33m\u001b[0m\u001b[1;33m\u001b[0m\u001b[0m\n",
      "\u001b[1;32m~\\anaconda3\\lib\\site-packages\\sklearn\\linear_model\\_logistic.py\u001b[0m in \u001b[0;36mfit\u001b[1;34m(self, X, y, sample_weight)\u001b[0m\n\u001b[0;32m   1514\u001b[0m             \u001b[0maccept_large_sparse\u001b[0m\u001b[1;33m=\u001b[0m\u001b[0msolver\u001b[0m \u001b[1;32mnot\u001b[0m \u001b[1;32min\u001b[0m \u001b[1;33m[\u001b[0m\u001b[1;34m\"liblinear\"\u001b[0m\u001b[1;33m,\u001b[0m \u001b[1;34m\"sag\"\u001b[0m\u001b[1;33m,\u001b[0m \u001b[1;34m\"saga\"\u001b[0m\u001b[1;33m]\u001b[0m\u001b[1;33m,\u001b[0m\u001b[1;33m\u001b[0m\u001b[1;33m\u001b[0m\u001b[0m\n\u001b[0;32m   1515\u001b[0m         )\n\u001b[1;32m-> 1516\u001b[1;33m         \u001b[0mcheck_classification_targets\u001b[0m\u001b[1;33m(\u001b[0m\u001b[0my\u001b[0m\u001b[1;33m)\u001b[0m\u001b[1;33m\u001b[0m\u001b[1;33m\u001b[0m\u001b[0m\n\u001b[0m\u001b[0;32m   1517\u001b[0m         \u001b[0mself\u001b[0m\u001b[1;33m.\u001b[0m\u001b[0mclasses_\u001b[0m \u001b[1;33m=\u001b[0m \u001b[0mnp\u001b[0m\u001b[1;33m.\u001b[0m\u001b[0munique\u001b[0m\u001b[1;33m(\u001b[0m\u001b[0my\u001b[0m\u001b[1;33m)\u001b[0m\u001b[1;33m\u001b[0m\u001b[1;33m\u001b[0m\u001b[0m\n\u001b[0;32m   1518\u001b[0m \u001b[1;33m\u001b[0m\u001b[0m\n",
      "\u001b[1;32m~\\anaconda3\\lib\\site-packages\\sklearn\\utils\\multiclass.py\u001b[0m in \u001b[0;36mcheck_classification_targets\u001b[1;34m(y)\u001b[0m\n\u001b[0;32m    195\u001b[0m         \u001b[1;34m\"multilabel-sequences\"\u001b[0m\u001b[1;33m,\u001b[0m\u001b[1;33m\u001b[0m\u001b[1;33m\u001b[0m\u001b[0m\n\u001b[0;32m    196\u001b[0m     ]:\n\u001b[1;32m--> 197\u001b[1;33m         \u001b[1;32mraise\u001b[0m \u001b[0mValueError\u001b[0m\u001b[1;33m(\u001b[0m\u001b[1;34m\"Unknown label type: %r\"\u001b[0m \u001b[1;33m%\u001b[0m \u001b[0my_type\u001b[0m\u001b[1;33m)\u001b[0m\u001b[1;33m\u001b[0m\u001b[1;33m\u001b[0m\u001b[0m\n\u001b[0m\u001b[0;32m    198\u001b[0m \u001b[1;33m\u001b[0m\u001b[0m\n\u001b[0;32m    199\u001b[0m \u001b[1;33m\u001b[0m\u001b[0m\n",
      "\u001b[1;31mValueError\u001b[0m: Unknown label type: 'continuous'"
     ]
    }
   ],
   "source": [
    "log_Model = LogisticRegression(random_state = 0, max_iter = 5000)\n",
    "model1 = log_Model.fit(X_train, y_train['average'])\n",
    "predictions = model1.predict(X_test)\n",
    "\n",
    "print(\"Training set score: {:.3f}\".format(model1.score(X_train,y_train['average'])))\n",
    "print(\"Test set score: {:.3f}\".format(model1.score(X_test,y_test['average'])))"
   ]
  },
  {
   "cell_type": "code",
   "execution_count": 43,
   "id": "fdd77102",
   "metadata": {},
   "outputs": [
    {
     "name": "stdout",
     "output_type": "stream",
     "text": [
      "0      65.666667\n",
      "1      51.333333\n",
      "2      56.333333\n",
      "3      74.333333\n",
      "4      73.000000\n",
      "         ...    \n",
      "995    69.333333\n",
      "996    89.333333\n",
      "997    36.000000\n",
      "998    76.333333\n",
      "999    62.333333\n",
      "Name: average, Length: 1000, dtype: float64\n"
     ]
    }
   ],
   "source": []
  },
  {
   "cell_type": "code",
   "execution_count": 56,
   "id": "7f497036",
   "metadata": {},
   "outputs": [
    {
     "name": "stdout",
     "output_type": "stream",
     "text": [
      "Training set score: 0.113\n",
      "Test set score: 0.013\n"
     ]
    }
   ],
   "source": [
    "model1 = log_Model.fit(X_train, y_train['math score'])\n",
    "print(\"Training set score: {:.3f}\".format(model1.score(X_train,y_train['math score'])))\n",
    "print(\"Test set score: {:.3f}\".format(model1.score(X_test,y_test['math score'])))"
   ]
  },
  {
   "cell_type": "code",
   "execution_count": null,
   "id": "ef3ca48f",
   "metadata": {},
   "outputs": [],
   "source": [
    "model1 = log_Model.fit(X_train, y_train['math score'])\n",
    "print(\"Training set score: {:.3f}\".format(model1.score(X_train,y_train['math score'])))\n",
    "print(\"Test set score: {:.3f}\".format(model1.score(X_test,y_test['math score'])))"
   ]
  },
  {
   "cell_type": "code",
   "execution_count": 33,
   "id": "e763f32e",
   "metadata": {},
   "outputs": [
    {
     "name": "stdout",
     "output_type": "stream",
     "text": [
      "<bound method ClassifierMixin.score of LogisticRegression(max_iter=5000, random_state=0)>\n"
     ]
    }
   ],
   "source": [
    "print(model1.score)"
   ]
  },
  {
   "cell_type": "markdown",
   "id": "3fdbb43e",
   "metadata": {},
   "source": [
    "## Second logistic Regression"
   ]
  },
  {
   "cell_type": "code",
   "execution_count": 43,
   "id": "404b9f67",
   "metadata": {},
   "outputs": [],
   "source": [
    "df2 = df[['parental level of education','test preparation course','math score', 'reading score', 'writing score']]\n",
    "factors2 = df2.iloc[0:-1,0:2]\n",
    "target = df.iloc[0:-1, 5:8]"
   ]
  },
  {
   "cell_type": "code",
   "execution_count": 44,
   "id": "8beba4dd",
   "metadata": {},
   "outputs": [],
   "source": [
    "X_train, X_test, y_train, y_test = train_test_split(\n",
    "   factors2, target, test_size = 0.3, random_state = 1\n",
    ")"
   ]
  },
  {
   "cell_type": "code",
   "execution_count": 45,
   "id": "304cf60c",
   "metadata": {},
   "outputs": [
    {
     "name": "stdout",
     "output_type": "stream",
     "text": [
      "Training set score: 0.041\n",
      "Test set score: 0.037\n"
     ]
    }
   ],
   "source": [
    "model1 = log_Model.fit(X_train, y_train['math score'])\n",
    "print(\"Training set score: {:.3f}\".format(model1.score(X_train,y_train['math score'])))\n",
    "print(\"Test set score: {:.3f}\".format(model1.score(X_test,y_test['math score'])))"
   ]
  },
  {
   "cell_type": "markdown",
   "id": "8944cfca",
   "metadata": {},
   "source": [
    "## Third Logistic Regression"
   ]
  },
  {
   "cell_type": "code",
   "execution_count": 48,
   "id": "88f7cbff",
   "metadata": {},
   "outputs": [],
   "source": [
    "log_Model = LogisticRegression(random_state = 0, max_iter = 3000)\n",
    "model1 = log_Model.fit(X_train, y_train['math score'])"
   ]
  },
  {
   "cell_type": "code",
   "execution_count": 49,
   "id": "6537c199",
   "metadata": {},
   "outputs": [
    {
     "name": "stdout",
     "output_type": "stream",
     "text": [
      "Training set score: 0.041\n",
      "Test set score: 0.037\n"
     ]
    }
   ],
   "source": [
    "print(\"Training set score: {:.3f}\".format(model1.score(X_train,y_train['math score'])))\n",
    "print(\"Test set score: {:.3f}\".format(model1.score(X_test,y_test['math score'])))"
   ]
  },
  {
   "cell_type": "code",
   "execution_count": null,
   "id": "241d1e6d",
   "metadata": {},
   "outputs": [],
   "source": []
  }
 ],
 "metadata": {
  "kernelspec": {
   "display_name": "Python 3 (ipykernel)",
   "language": "python",
   "name": "python3"
  },
  "language_info": {
   "codemirror_mode": {
    "name": "ipython",
    "version": 3
   },
   "file_extension": ".py",
   "mimetype": "text/x-python",
   "name": "python",
   "nbconvert_exporter": "python",
   "pygments_lexer": "ipython3",
   "version": "3.9.13"
  }
 },
 "nbformat": 4,
 "nbformat_minor": 5
}
